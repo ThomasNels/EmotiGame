{
 "cells": [
  {
   "cell_type": "markdown",
   "metadata": {},
   "source": [
    "Notebook used for training and comparing three classifiers"
   ]
  },
  {
   "cell_type": "markdown",
   "metadata": {},
   "source": [
    "Data Loading and Preprocess"
   ]
  },
  {
   "cell_type": "code",
   "execution_count": 141,
   "metadata": {},
   "outputs": [],
   "source": [
    "import numpy as np\n",
    "import pandas as pd\n",
    "from sklearn.preprocessing import StandardScaler\n",
    "import os\n",
    "from data_input import LoadData\n",
    "import matplotlib.pyplot as plt"
   ]
  },
  {
   "cell_type": "code",
   "execution_count": null,
   "metadata": {},
   "outputs": [],
   "source": [
    "data_dir = '/mnt/c/senior_project/data'\n",
    "df_arr = []\n",
    "control_arr = []\n",
    "session_folders = []\n",
    "skilled_session = ['session_2', 'session_3', 'session_4', 'session_8', 'session_9', 'session_11']"
   ]
  },
  {
   "cell_type": "code",
   "execution_count": 143,
   "metadata": {},
   "outputs": [
    {
     "name": "stdout",
     "output_type": "stream",
     "text": [
      "['session_10', 'session_11', 'session_12', 'session_13', 'session_2', 'session_3', 'session_4', 'session_5', 'session_6', 'session_7', 'session_8', 'session_9', 'session_10', 'session_11', 'session_12', 'session_13', 'session_2', 'session_3', 'session_4', 'session_5', 'session_6', 'session_7', 'session_8', 'session_9']\n"
     ]
    }
   ],
   "source": [
    "session_folders = []\n",
    "for _, folders, _ in os.walk(data_dir):\n",
    "    for player_type in folders:\n",
    "        player_dir = os.path.join(data_dir, player_type)\n",
    "        for path, folders, files in os.walk(player_dir):\n",
    "            for folder in folders:\n",
    "                folder_dir = os.path.join(player_dir, folder)   \n",
    "                session_folders.append(folder)\n",
    "                for path, folders, files in os.walk(folder_dir):\n",
    "                    hr_file = os.path.join(folder_dir, files[2])\n",
    "                    timestamp_file = os.path.join(folder_dir, files[3])\n",
    "                    tracking_file = os.path.join(folder_dir, files[4])\n",
    "                    if folder in skilled_session or player_type == 'control':\n",
    "                        skilled_flag = True\n",
    "                    else:\n",
    "                        skilled_flag = False\n",
    "                    if player_type == 'control':\n",
    "                        pass\n",
    "                        if folder == 'session_13':\n",
    "                            control_arr.append(LoadData(hr_file, tracking_file, skilled_flag, hours=-21.53611).dataframe)\n",
    "                        else:\n",
    "                            control_arr.append(LoadData(hr_file, tracking_file, skilled_flag, hours=7).dataframe)\n",
    "                    else:\n",
    "                        df_arr.append(LoadData(hr_file, tracking_file, skilled_flag, hours=7).dataframe)\n",
    "print(session_folders)"
   ]
  },
  {
   "cell_type": "code",
   "execution_count": 144,
   "metadata": {},
   "outputs": [
    {
     "name": "stdout",
     "output_type": "stream",
     "text": [
      "session_10 Dataframe\n",
      "    Interval          HR  APM  Importance    Base HR  Label\n",
      "0          0  103.500000    0           0  99.597455      0\n",
      "1          1  102.167000    0           0  99.597455      0\n",
      "2          2   77.882222    0           0  99.597455      0\n",
      "3          3   93.507273   18           1  99.597455      0\n",
      "4          4   84.485455   36           0  99.597455      0\n",
      "5          5  103.463846  390           0  99.597455      0\n",
      "6          6  105.291000   18           0  99.597455      0\n",
      "7          7   90.891818   12           1  99.597455      0\n",
      "8          8   69.440000   30           0  99.597455      0\n",
      "9          9   87.947273   60           2  99.597455      0\n",
      "10        10  102.586364   48           1  99.597455      0\n",
      "11        11  126.890000   24           0  99.597455      0\n",
      "12        12  106.355556   48           0  99.597455      0\n",
      "13        13   68.810000   42           1  99.597455      0\n",
      "session_11 Dataframe\n",
      "    Interval          HR  APM  Importance    Base HR  Label\n",
      "0          0   62.430000  132           0  69.536983      1\n",
      "1          1   43.892500   30           0  69.536983      1\n",
      "2          2   76.827692  132           0  69.536983      1\n",
      "3          3  104.768462   78           0  69.536983      1\n",
      "4          4   74.252000  414           0  69.536983      1\n",
      "5          5   50.442500   30           0  69.536983      1\n",
      "6          6   32.753333   18           1  69.536983      1\n",
      "7          7   30.280000   30           0  69.536983      1\n",
      "8          8   44.315714   12           1  69.536983      1\n",
      "9          9   44.554000   18           0  69.536983      1\n",
      "10        10   41.390000   42           0  69.536983      1\n",
      "11        11   39.101667   30           0  69.536983      1\n",
      "12        12   55.444286   30           1  69.536983      1\n",
      "13        13   50.604000   36           1  69.536983      1\n",
      "14        14   34.630000   78           0  69.536983      1\n",
      "15        15   67.455000   48           1  69.536983      1\n",
      "16        16   73.900000    6           2  69.536983      1\n",
      "17        17   75.770000   36           0  69.536983      1\n",
      "18        18   74.660000   18           1  69.536983      1\n",
      "19        19   59.496000  402           1  69.536983      1\n",
      "20        20   38.882500   96           0  69.536983      1\n",
      "21        21   37.386667   36           1  69.536983      1\n",
      "22        22   48.672500   30           1  69.536983      1\n",
      "23        23   85.430909   30           0  69.536983      1\n",
      "24        24   94.937143   18           1  69.536983      1\n",
      "25        25  117.165294   30           1  69.536983      1\n",
      "26        26  111.662667   90           0  69.536983      1\n",
      "27        27  117.144000  324           2  69.536983      1\n",
      "session_12 Dataframe\n",
      "   Interval         HR  APM  Importance    Base HR  Label\n",
      "0         0  85.094444    0           0  72.883472      0\n",
      "1         1  54.318571    0           0  72.883472      0\n",
      "2         2  87.973571   54           0  72.883472      0\n",
      "3         3  87.486667    0           0  72.883472      0\n",
      "4         4  83.273333    0           2  72.883472      0\n",
      "5         5  75.379091   24           1  72.883472      0\n",
      "6         6  79.045556   72           2  72.883472      0\n",
      "session_13 Dataframe\n",
      "    Interval         HR   APM  Importance    Base HR  Label\n",
      "0          0  46.116667     0           0  55.579365      0\n",
      "1          1  48.964000     0           0  55.579365      0\n",
      "2          2  67.295000     0           0  55.579365      0\n",
      "3          3  52.375000   330           1  55.579365      0\n",
      "4          4  46.200000  1470           0  55.579365      0\n",
      "5          5  40.670000     0           0  55.579365      0\n",
      "6          6  40.576667    42           1  55.579365      0\n",
      "7          7  44.846667    36           0  55.579365      0\n",
      "8          8  55.757143     0           0  55.579365      0\n",
      "9          9  47.150000     0           0  55.579365      0\n",
      "10        10  35.080000    78           1  55.579365      0\n",
      "11        11  38.671429    12           0  55.579365      0\n",
      "12        12  39.406667    60           1  55.579365      0\n",
      "13        13  38.973333    24           0  55.579365      0\n",
      "14        14  49.608571    72           0  55.579365      0\n",
      "15        15  50.514286     0           0  55.579365      0\n",
      "16        16  42.084000     6           0  55.579365      0\n",
      "17        17  44.868571    24           0  55.579365      0\n",
      "18        18  55.698571    24           0  55.579365      0\n",
      "19        19  62.741667    24           0  55.579365      0\n",
      "20        20  81.710000     0           0  55.579365      0\n",
      "21        21  63.173333     6           0  55.579365      0\n",
      "22        22  66.946250     6           1  55.579365      0\n",
      "23        23  49.690000    12           0  55.579365      0\n",
      "24        24  64.383000    12           0  55.579365      0\n",
      "25        25  91.115714    24           1  55.579365      0\n",
      "26        26  83.813000    12           0  55.579365      0\n",
      "27        27  74.634286     6           0  55.579365      0\n",
      "28        28  50.674000     6           0  55.579365      0\n",
      "29        29  58.932500    12           0  55.579365      0\n",
      "30        30  74.493333    24           0  55.579365      0\n",
      "31        31  56.940000    12           0  55.579365      0\n",
      "32        32  70.200000     6           0  55.579365      0\n",
      "33        33  45.790000     6           0  55.579365      0\n",
      "34        34  56.402222    36           1  55.579365      0\n",
      "35        35  87.417500    48           0  55.579365      0\n",
      "36        36  68.197000     0           0  55.579365      0\n",
      "37        37  64.877500    24           0  55.579365      0\n",
      "38        38  44.380000     0           0  55.579365      0\n",
      "39        39  47.952857     6           0  55.579365      0\n",
      "40        40  69.404444     6           0  55.579365      0\n",
      "41        41  66.504286    42           2  55.579365      0\n",
      "42        42  72.621250    96           2  55.579365      0\n",
      "session_2 Dataframe\n",
      "    Interval          HR  APM  Importance    Base HR  Label\n",
      "0          0   61.670000    6           0  74.068583      1\n",
      "1          1   69.968182    0           0  74.068583      1\n",
      "2          2   74.790000    0           0  74.068583      1\n",
      "3          3   75.208889   30           0  74.068583      1\n",
      "4          4   89.167692   48           0  74.068583      1\n",
      "5          5   96.670714    0           0  74.068583      1\n",
      "6          6   92.142500   54           1  74.068583      1\n",
      "7          7  107.269375  186           1  74.068583      1\n",
      "8          8   95.691429   18           1  74.068583      1\n",
      "9          9  105.522778   18           0  74.068583      1\n",
      "10        10  109.978333   12           1  74.068583      1\n",
      "11        11  118.610500   30           0  74.068583      1\n",
      "12        12  114.474444   30           0  74.068583      1\n",
      "13        13  113.657778    0           2  74.068583      1\n",
      "14        14  113.593158  144           2  74.068583      1\n",
      "15        15  117.091053   12           0  74.068583      1\n",
      "session_3 Dataframe\n",
      "    Interval          HR  APM  Importance    Base HR  Label\n",
      "0          0   98.015833    6           0  76.274052      1\n",
      "1          1   74.335000    0           0  76.274052      1\n",
      "2          2   51.800000    0           0  76.274052      1\n",
      "3          3   55.746667   36           0  76.274052      1\n",
      "4          4   41.870000   18           0  76.274052      1\n",
      "5          5   76.499231    6           0  76.274052      1\n",
      "6          6   85.793333  288           0  76.274052      1\n",
      "7          7   88.108462  102           1  76.274052      1\n",
      "8          8   91.564615   96           2  76.274052      1\n",
      "9          9   65.257143  120           0  76.274052      1\n",
      "10        10   87.061818   54           2  76.274052      1\n",
      "11        11   99.318182   90           0  76.274052      1\n",
      "12        12   98.742000   24           0  76.274052      1\n",
      "13        13  111.638750   60           0  76.274052      1\n",
      "14        14  118.821667   42           1  76.274052      1\n",
      "15        15   85.523636   60           1  76.274052      1\n",
      "16        16   86.875455   90           2  76.274052      1\n",
      "17        17  101.189286  180           0  76.274052      1\n",
      "18        18  108.438571   18           0  76.274052      1\n",
      "19        19  101.832143  174           0  76.274052      1\n",
      "20        20   90.783000   42           0  76.274052      1\n",
      "21        21   80.330000   90           0  76.274052      1\n",
      "22        22   98.578462   24           0  76.274052      1\n",
      "23        23   96.774286   54           0  76.274052      1\n",
      "24        24  115.989412   48           0  76.274052      1\n",
      "25        25  119.185789   30           0  76.274052      1\n",
      "26        26  112.691429   18           0  76.274052      1\n",
      "27        27   95.142727   36           1  76.274052      1\n",
      "28        28  101.263125   96           0  76.274052      1\n",
      "29        29  112.234118   66           0  76.274052      1\n",
      "30        30  111.087500   90           0  76.274052      1\n",
      "31        31  106.194286  114           1  76.274052      1\n",
      "32        32  102.867692   78           0  76.274052      1\n",
      "33        33  100.527143   90           0  76.274052      1\n",
      "34        34  106.251538   90           2  76.274052      1\n",
      "35        35  103.987273  216           2  76.274052      1\n",
      "session_4 Dataframe\n",
      "   Interval         HR  APM  Importance    Base HR  Label\n",
      "0         0  68.000000    0           0  75.050617      1\n",
      "1         1  55.788000    0           0  75.050617      1\n",
      "2         2  56.220000   54           0  75.050617      1\n",
      "3         3  53.628571  840           2  75.050617      1\n",
      "4         4  40.750000  504           2  75.050617      1\n",
      "session_5 Dataframe\n",
      "    Interval          HR  APM  Importance    Base HR  Label\n",
      "0          0   81.974444    0           0  73.038522      0\n",
      "1          1   70.497500    6           0  73.038522      0\n",
      "2          2   69.180909    0           0  73.038522      0\n",
      "3          3   82.701667    0           0  73.038522      0\n",
      "4          4   71.154286    6           0  73.038522      0\n",
      "5          5   55.910000    0           0  73.038522      0\n",
      "6          6   86.293333  114           0  73.038522      0\n",
      "7          7   85.258000   72           0  73.038522      0\n",
      "8          8  101.389286   78           1  73.038522      0\n",
      "9          9   94.283000   24           0  73.038522      0\n",
      "10        10   58.717143    6           1  73.038522      0\n",
      "11        11   92.708462   36           0  73.038522      0\n",
      "12        12   85.715385  120           1  73.038522      0\n",
      "13        13   74.028571   24           2  73.038522      0\n",
      "14        14   74.180769   18           1  73.038522      0\n",
      "15        15   87.173846   48           0  73.038522      0\n",
      "16        16   84.864167   60           1  73.038522      0\n",
      "17        17   73.009000   30           2  73.038522      0\n",
      "session_6 Dataframe\n",
      "    Interval          HR   APM  Importance    Base HR  Label\n",
      "0          0   78.080000     0           0  64.963955      0\n",
      "1          1   79.970714    30           0  64.963955      0\n",
      "2          2   81.010909     6           0  64.963955      0\n",
      "3          3   81.008571    18           0  64.963955      0\n",
      "4          4   58.170000   168           0  64.963955      0\n",
      "5          5   85.690000     0           0  64.963955      0\n",
      "6          6  100.138182  1242           0  64.963955      0\n",
      "7          7   79.354167    18           1  64.963955      0\n",
      "8          8   80.115833     6           1  64.963955      0\n",
      "9          9   81.250769    24           0  64.963955      0\n",
      "10        10   87.858333    18           0  64.963955      0\n",
      "11        11   78.661000     6           0  64.963955      0\n",
      "12        12   81.974615    24           0  64.963955      0\n",
      "13        13   82.477500     6           0  64.963955      0\n",
      "14        14   66.204444    12           0  64.963955      0\n",
      "15        15   84.338571     0           1  64.963955      0\n",
      "16        16   83.943636    12           0  64.963955      0\n",
      "17        17   75.596923    18           0  64.963955      0\n",
      "18        18   77.814545    18           0  64.963955      0\n",
      "19        19   91.002500     6           0  64.963955      0\n",
      "20        20   80.437692    12           1  64.963955      0\n",
      "21        21   72.906667    18           2  64.963955      0\n",
      "22        22   73.138462    24           1  64.963955      0\n",
      "23        23   77.760000    12           1  64.963955      0\n",
      "24        24   77.262000    36           0  64.963955      0\n",
      "25        25   73.695455    12           0  64.963955      0\n",
      "26        26   77.142500    24           1  64.963955      0\n",
      "27        27   88.196000    18           0  64.963955      0\n",
      "28        28   87.551429    60           2  64.963955      0\n",
      "29        29   90.759091    12           0  64.963955      0\n",
      "30        30   93.463636    18           1  64.963955      0\n",
      "31        31   71.185000     6           0  64.963955      0\n",
      "32        32   78.281538    12           0  64.963955      0\n",
      "33        33   89.012222     0           0  64.963955      0\n",
      "34        34   81.857692    12           0  64.963955      0\n",
      "35        35   86.923077    18           0  64.963955      0\n",
      "36        36   86.531250     0           0  64.963955      0\n",
      "37        37   88.842222     0           1  64.963955      0\n",
      "38        38   83.936667    18           1  64.963955      0\n",
      "39        39   68.772857    30           2  64.963955      0\n",
      "40        40   57.397778    42           2  64.963955      0\n",
      "41        41   65.174444    12           1  64.963955      0\n",
      "42        42   96.170833    12           0  64.963955      0\n",
      "43        43   72.161111    12           0  64.963955      0\n",
      "44        44   70.013000   114           2  64.963955      0\n",
      "session_7 Dataframe\n",
      "    Interval         HR  APM  Importance    Base HR  Label\n",
      "0          0  35.976667  198           0  44.381868      0\n",
      "1          1  50.563333  528           0  44.381868      0\n",
      "2          2  44.170000   36           0  44.381868      0\n",
      "3          3  37.685000    0           0  44.381868      0\n",
      "4          4  31.160000   12           0  44.381868      0\n",
      "5          6  24.920000   54           0  44.381868      0\n",
      "6          7  22.775000   18           1  44.381868      0\n",
      "7          8  22.312500   12           2  44.381868      0\n",
      "8          9  24.500000    6           0  44.381868      0\n",
      "9         10  34.865000   36           0  44.381868      0\n",
      "10        11  39.990000  114           1  44.381868      0\n",
      "11        12  32.300000   12           0  44.381868      0\n",
      "session_8 Dataframe\n",
      "    Interval          HR  APM  Importance    Base HR  Label\n",
      "0          0   43.814000   84           0  53.521552      1\n",
      "1          1   50.686250    0           0  53.521552      1\n",
      "2          2   63.778571    6           0  53.521552      1\n",
      "3          3   82.893333  312           0  53.521552      1\n",
      "4          4   78.868333   12           1  53.521552      1\n",
      "5          5   57.710000    0           0  53.521552      1\n",
      "6          6   67.335556   42           1  53.521552      1\n",
      "7          7   71.436000   36           0  53.521552      1\n",
      "8          8   73.857143  132           1  53.521552      1\n",
      "9          9   67.548000  126           0  53.521552      1\n",
      "10        10   93.521000  186           0  53.521552      1\n",
      "11        11   82.560909   96           0  53.521552      1\n",
      "12        12   93.994545  144           0  53.521552      1\n",
      "13        13   68.137500  120           0  53.521552      1\n",
      "14        14   65.928000   90           1  53.521552      1\n",
      "15        15   56.108000  114           0  53.521552      1\n",
      "16        16   85.444000  348           2  53.521552      1\n",
      "17        17   73.818000  678           1  53.521552      1\n",
      "18        18   80.868182  312           1  53.521552      1\n",
      "19        19   75.491000  384           0  53.521552      1\n",
      "20        20   78.737000  474           2  53.521552      1\n",
      "21        21   62.611667  186           0  53.521552      1\n",
      "22        22   89.386250  294           0  53.521552      1\n",
      "23        23   99.470769  318           1  53.521552      1\n",
      "24        24   95.213333  564           0  53.521552      1\n",
      "25        25   87.493333  186           1  53.521552      1\n",
      "26        26   90.930000  168           0  53.521552      1\n",
      "27        27   95.140000  144           0  53.521552      1\n",
      "28        28   91.809286  174           0  53.521552      1\n",
      "29        29  101.164375  114           2  53.521552      1\n",
      "30        30   90.607143  240           0  53.521552      1\n",
      "31        31   87.530000  138           1  53.521552      1\n",
      "session_9 Dataframe\n",
      "    Interval          HR  APM  Importance    Base HR  Label\n",
      "0          0  123.400000    0           0  81.732931      1\n",
      "1          1  112.518333    0           0  81.732931      1\n",
      "2          2   69.815556   30           0  81.732931      1\n",
      "3          3   63.460000   60           1  81.732931      1\n",
      "4          4   52.146000   54           0  81.732931      1\n",
      "5          5   45.470000   12           0  81.732931      1\n",
      "6          6   58.591250    6           0  81.732931      1\n",
      "7          7   67.547500    0           1  81.732931      1\n",
      "8          8   78.213636   12           1  81.732931      1\n",
      "9          9   77.908750   12           0  81.732931      1\n",
      "10        10   90.513000    6           0  81.732931      1\n",
      "11        11   82.880000   18           1  81.732931      1\n",
      "12        12   48.747500    6           0  81.732931      1\n",
      "13        13   56.582857   18           1  81.732931      1\n",
      "14        14   50.083333   12           0  81.732931      1\n",
      "15        15   64.463333   12           0  81.732931      1\n",
      "16        16   43.765000    0           0  81.732931      1\n",
      "17        17   54.038333   18           2  81.732931      1\n"
     ]
    }
   ],
   "source": [
    "i = 0\n",
    "for df in df_arr:\n",
    "    print(f\"{session_folders[i]} Dataframe\")\n",
    "    i += 1\n",
    "    print(df)"
   ]
  },
  {
   "cell_type": "code",
   "execution_count": 145,
   "metadata": {},
   "outputs": [
    {
     "name": "stdout",
     "output_type": "stream",
     "text": [
      "            HR  APM  Importance    Base HR  Label\n",
      "0   103.500000    0           0  99.597455      0\n",
      "1   102.167000    0           0  99.597455      0\n",
      "2    77.882222    0           0  99.597455      0\n",
      "3    93.507273   18           1  99.597455      0\n",
      "4    84.485455   36           0  99.597455      0\n",
      "..         ...  ...         ...        ...    ...\n",
      "13   56.582857   18           1  81.732931      1\n",
      "14   50.083333   12           0  81.732931      1\n",
      "15   64.463333   12           0  81.732931      1\n",
      "16   43.765000    0           0  81.732931      1\n",
      "17   54.038333   18           2  81.732931      1\n",
      "\n",
      "[274 rows x 5 columns]\n"
     ]
    }
   ],
   "source": [
    "dataframe = pd.concat(df_arr)\n",
    "dataframe = dataframe.drop(columns='Interval')\n",
    "print(dataframe)"
   ]
  },
  {
   "cell_type": "code",
   "execution_count": 146,
   "metadata": {},
   "outputs": [],
   "source": [
    "# define features and label columns\n",
    "features = dataframe.drop(columns='Label').values\n",
    "labels = dataframe['Label'].values"
   ]
  },
  {
   "cell_type": "code",
   "execution_count": 147,
   "metadata": {},
   "outputs": [
    {
     "name": "stdout",
     "output_type": "stream",
     "text": [
      "[[ 1.26661924 -0.47918262 -0.65248234  2.598012  ]\n",
      " [ 1.20766669 -0.47918262 -0.65248234  2.598012  ]\n",
      " [ 0.13366104 -0.47918262 -0.65248234  2.598012  ]\n",
      " ...\n",
      " [-0.45979559 -0.40313511 -0.65248234  1.15084006]\n",
      " [-1.37518906 -0.47918262 -0.65248234  1.15084006]\n",
      " [-0.92084609 -0.36511135  2.32718702  1.15084006]]\n"
     ]
    }
   ],
   "source": [
    "# normalize the data\n",
    "scaler = StandardScaler()\n",
    "features = scaler.fit_transform(features)\n",
    "print(features)"
   ]
  },
  {
   "cell_type": "markdown",
   "metadata": {},
   "source": [
    "LSTM Model"
   ]
  },
  {
   "cell_type": "code",
   "execution_count": 148,
   "metadata": {},
   "outputs": [],
   "source": [
    "from lstm import LSTMModel\n",
    "from create_dataset import CreateDataset\n",
    "import torch\n",
    "from torch.utils.data import DataLoader, random_split\n",
    "import torch.optim as optim\n",
    "import torch.nn as nn\n"
   ]
  },
  {
   "cell_type": "code",
   "execution_count": 149,
   "metadata": {},
   "outputs": [],
   "source": [
    "# convert to tensors\n",
    "lstm_features = torch.tensor(features, dtype=torch.float32)\n",
    "lstm_labels = torch.tensor(labels, dtype=torch.long)"
   ]
  },
  {
   "cell_type": "code",
   "execution_count": null,
   "metadata": {},
   "outputs": [],
   "source": [
    "# setup dataset for the model\n",
    "sequence_length = 5 #NOTE: adjust this as needed for different lengths\n",
    "dataset = CreateDataset(lstm_features, lstm_labels, sequence_length)\n"
   ]
  },
  {
   "cell_type": "code",
   "execution_count": 151,
   "metadata": {},
   "outputs": [],
   "source": [
    "# train and test split and create DataLoader (70-15-15 split)\n",
    "train_size = int(0.7 * len(dataset))\n",
    "val_size = int(0.15 * len(dataset))\n",
    "test_size = len(dataset) - train_size - val_size\n",
    "train_data, val_data, test_data = random_split(dataset, [train_size, val_size, test_size])\n",
    "\n",
    "batch_size = 32\n",
    "train_loader = DataLoader(train_data, batch_size=batch_size, shuffle=True)\n",
    "val_loader = DataLoader(val_data, batch_size=batch_size, shuffle=False)\n",
    "test_loader = DataLoader(test_data, batch_size=batch_size, shuffle=False)"
   ]
  },
  {
   "cell_type": "code",
   "execution_count": 152,
   "metadata": {},
   "outputs": [
    {
     "name": "stdout",
     "output_type": "stream",
     "text": [
      "LSTMModel(\n",
      "  (lstm): LSTM(4, 16, batch_first=True, dropout=0.5)\n",
      "  (dropout): Dropout(p=0.5, inplace=False)\n",
      "  (fc): Linear(in_features=16, out_features=2, bias=True)\n",
      ")\n"
     ]
    },
    {
     "name": "stderr",
     "output_type": "stream",
     "text": [
      "/mnt/c/senior_project/env/lib/python3.10/site-packages/torch/nn/modules/rnn.py:123: UserWarning: dropout option adds dropout after all but last recurrent layer, so non-zero dropout expects num_layers greater than 1, but got dropout=0.5 and num_layers=1\n",
      "  warnings.warn(\n"
     ]
    }
   ],
   "source": [
    "# model parameters and create model\n",
    "input_size = 4\n",
    "hidden_size = 16 # NOTE: hyperparameter\n",
    "num_layers = 1 # NOTE: hyperparameter\n",
    "num_classes = 2 # skilled or unskilled (1, -1)\n",
    "lr = 0.001 # NOTE: hyperparameter\n",
    "dropout_rate = 0.5 # NOTE: hyperparameter\n",
    "\n",
    "model = LSTMModel(input_size, hidden_size, num_layers, num_classes, dropout_rate)\n",
    "print(model)"
   ]
  },
  {
   "cell_type": "code",
   "execution_count": null,
   "metadata": {},
   "outputs": [
    {
     "name": "stdout",
     "output_type": "stream",
     "text": [
      "cuda\n",
      "Epoch [1/100], Train Loss: 0.7091, Train Accuracy: 46.8085. Val Loss: 0.7159,            Val Accuracy: 45.0000\n",
      "Epoch [2/100], Train Loss: 0.7044, Train Accuracy: 48.4043. Val Loss: 0.7126,            Val Accuracy: 50.0000\n",
      "Epoch [3/100], Train Loss: 0.6935, Train Accuracy: 49.4681. Val Loss: 0.7076,            Val Accuracy: 52.5000\n",
      "Epoch [4/100], Train Loss: 0.7003, Train Accuracy: 45.7447. Val Loss: 0.7040,            Val Accuracy: 55.0000\n",
      "Epoch [5/100], Train Loss: 0.6911, Train Accuracy: 49.4681. Val Loss: 0.7010,            Val Accuracy: 57.5000\n",
      "Epoch [6/100], Train Loss: 0.6878, Train Accuracy: 55.8511. Val Loss: 0.6969,            Val Accuracy: 57.5000\n",
      "Epoch [7/100], Train Loss: 0.6777, Train Accuracy: 57.4468. Val Loss: 0.6943,            Val Accuracy: 60.0000\n",
      "Epoch [8/100], Train Loss: 0.6774, Train Accuracy: 59.0426. Val Loss: 0.6903,            Val Accuracy: 60.0000\n",
      "Epoch [9/100], Train Loss: 0.6792, Train Accuracy: 53.7234. Val Loss: 0.6868,            Val Accuracy: 65.0000\n",
      "Epoch [10/100], Train Loss: 0.6825, Train Accuracy: 54.2553. Val Loss: 0.6827,            Val Accuracy: 70.0000\n",
      "Epoch [11/100], Train Loss: 0.6713, Train Accuracy: 60.1064. Val Loss: 0.6796,            Val Accuracy: 70.0000\n",
      "Epoch [12/100], Train Loss: 0.6619, Train Accuracy: 61.7021. Val Loss: 0.6746,            Val Accuracy: 67.5000\n",
      "Epoch [13/100], Train Loss: 0.6676, Train Accuracy: 62.7660. Val Loss: 0.6691,            Val Accuracy: 65.0000\n",
      "Epoch [14/100], Train Loss: 0.6530, Train Accuracy: 62.7660. Val Loss: 0.6641,            Val Accuracy: 62.5000\n",
      "Epoch [15/100], Train Loss: 0.6642, Train Accuracy: 57.4468. Val Loss: 0.6573,            Val Accuracy: 65.0000\n",
      "Epoch [16/100], Train Loss: 0.6497, Train Accuracy: 63.8298. Val Loss: 0.6515,            Val Accuracy: 65.0000\n",
      "Epoch [17/100], Train Loss: 0.6478, Train Accuracy: 62.7660. Val Loss: 0.6458,            Val Accuracy: 65.0000\n",
      "Epoch [18/100], Train Loss: 0.6504, Train Accuracy: 62.7660. Val Loss: 0.6381,            Val Accuracy: 65.0000\n",
      "Epoch [19/100], Train Loss: 0.6353, Train Accuracy: 66.4894. Val Loss: 0.6299,            Val Accuracy: 65.0000\n",
      "Epoch [20/100], Train Loss: 0.6238, Train Accuracy: 65.9574. Val Loss: 0.6220,            Val Accuracy: 60.0000\n",
      "Epoch [21/100], Train Loss: 0.6221, Train Accuracy: 63.2979. Val Loss: 0.6117,            Val Accuracy: 60.0000\n",
      "Epoch [22/100], Train Loss: 0.6061, Train Accuracy: 65.4255. Val Loss: 0.6010,            Val Accuracy: 62.5000\n",
      "Epoch [23/100], Train Loss: 0.6206, Train Accuracy: 68.6170. Val Loss: 0.5942,            Val Accuracy: 65.0000\n",
      "Epoch [24/100], Train Loss: 0.6049, Train Accuracy: 67.5532. Val Loss: 0.5851,            Val Accuracy: 65.0000\n",
      "Epoch [25/100], Train Loss: 0.5985, Train Accuracy: 67.0213. Val Loss: 0.5752,            Val Accuracy: 70.0000\n",
      "Epoch [26/100], Train Loss: 0.5898, Train Accuracy: 68.6170. Val Loss: 0.5630,            Val Accuracy: 70.0000\n",
      "Epoch [27/100], Train Loss: 0.5940, Train Accuracy: 70.7447. Val Loss: 0.5518,            Val Accuracy: 70.0000\n",
      "Epoch [28/100], Train Loss: 0.5796, Train Accuracy: 72.3404. Val Loss: 0.5412,            Val Accuracy: 75.0000\n",
      "Epoch [29/100], Train Loss: 0.5661, Train Accuracy: 72.3404. Val Loss: 0.5305,            Val Accuracy: 77.5000\n",
      "Epoch [30/100], Train Loss: 0.5785, Train Accuracy: 69.6809. Val Loss: 0.5169,            Val Accuracy: 77.5000\n",
      "Epoch [31/100], Train Loss: 0.5515, Train Accuracy: 75.0000. Val Loss: 0.5060,            Val Accuracy: 77.5000\n",
      "Epoch [32/100], Train Loss: 0.5327, Train Accuracy: 74.4681. Val Loss: 0.4970,            Val Accuracy: 77.5000\n",
      "Epoch [33/100], Train Loss: 0.5370, Train Accuracy: 75.5319. Val Loss: 0.4841,            Val Accuracy: 77.5000\n",
      "Epoch [34/100], Train Loss: 0.5224, Train Accuracy: 78.1915. Val Loss: 0.4736,            Val Accuracy: 77.5000\n",
      "Epoch [35/100], Train Loss: 0.5024, Train Accuracy: 77.6596. Val Loss: 0.4637,            Val Accuracy: 80.0000\n",
      "Epoch [36/100], Train Loss: 0.4991, Train Accuracy: 79.2553. Val Loss: 0.4529,            Val Accuracy: 80.0000\n",
      "Epoch [37/100], Train Loss: 0.5076, Train Accuracy: 77.6596. Val Loss: 0.4424,            Val Accuracy: 80.0000\n",
      "Epoch [38/100], Train Loss: 0.4719, Train Accuracy: 81.3830. Val Loss: 0.4331,            Val Accuracy: 80.0000\n",
      "Epoch [39/100], Train Loss: 0.4816, Train Accuracy: 81.3830. Val Loss: 0.4217,            Val Accuracy: 80.0000\n",
      "Epoch [40/100], Train Loss: 0.4788, Train Accuracy: 81.9149. Val Loss: 0.4107,            Val Accuracy: 82.5000\n",
      "Epoch [41/100], Train Loss: 0.4584, Train Accuracy: 80.3191. Val Loss: 0.4045,            Val Accuracy: 85.0000\n",
      "Epoch [42/100], Train Loss: 0.4492, Train Accuracy: 81.3830. Val Loss: 0.3955,            Val Accuracy: 82.5000\n",
      "Epoch [43/100], Train Loss: 0.4481, Train Accuracy: 81.3830. Val Loss: 0.3826,            Val Accuracy: 85.0000\n",
      "Epoch [44/100], Train Loss: 0.4404, Train Accuracy: 82.4468. Val Loss: 0.3753,            Val Accuracy: 85.0000\n",
      "Epoch [45/100], Train Loss: 0.4217, Train Accuracy: 81.3830. Val Loss: 0.3683,            Val Accuracy: 82.5000\n",
      "Epoch [46/100], Train Loss: 0.4178, Train Accuracy: 84.5745. Val Loss: 0.3604,            Val Accuracy: 85.0000\n",
      "Epoch [47/100], Train Loss: 0.3896, Train Accuracy: 86.1702. Val Loss: 0.3534,            Val Accuracy: 85.0000\n",
      "Epoch [48/100], Train Loss: 0.3971, Train Accuracy: 83.5106. Val Loss: 0.3484,            Val Accuracy: 85.0000\n",
      "Epoch [49/100], Train Loss: 0.4134, Train Accuracy: 82.9787. Val Loss: 0.3371,            Val Accuracy: 85.0000\n",
      "Epoch [50/100], Train Loss: 0.3879, Train Accuracy: 83.5106. Val Loss: 0.3311,            Val Accuracy: 87.5000\n",
      "Epoch [51/100], Train Loss: 0.3917, Train Accuracy: 85.6383. Val Loss: 0.3282,            Val Accuracy: 87.5000\n",
      "Epoch [52/100], Train Loss: 0.3957, Train Accuracy: 85.6383. Val Loss: 0.3235,            Val Accuracy: 85.0000\n",
      "Epoch [53/100], Train Loss: 0.4050, Train Accuracy: 82.9787. Val Loss: 0.3282,            Val Accuracy: 85.0000\n",
      "Epoch [54/100], Train Loss: 0.4156, Train Accuracy: 85.6383. Val Loss: 0.3233,            Val Accuracy: 87.5000\n",
      "Epoch [55/100], Train Loss: 0.3773, Train Accuracy: 85.1064. Val Loss: 0.3191,            Val Accuracy: 90.0000\n",
      "Epoch [56/100], Train Loss: 0.3680, Train Accuracy: 85.1064. Val Loss: 0.3189,            Val Accuracy: 90.0000\n",
      "Epoch [57/100], Train Loss: 0.3645, Train Accuracy: 86.1702. Val Loss: 0.3149,            Val Accuracy: 90.0000\n",
      "Epoch [58/100], Train Loss: 0.3476, Train Accuracy: 88.2979. Val Loss: 0.3220,            Val Accuracy: 87.5000\n",
      "Epoch [59/100], Train Loss: 0.3420, Train Accuracy: 87.7660. Val Loss: 0.3143,            Val Accuracy: 87.5000\n",
      "Epoch [60/100], Train Loss: 0.3338, Train Accuracy: 88.2979. Val Loss: 0.3104,            Val Accuracy: 87.5000\n",
      "Epoch [61/100], Train Loss: 0.3613, Train Accuracy: 87.7660. Val Loss: 0.3086,            Val Accuracy: 87.5000\n",
      "Epoch [62/100], Train Loss: 0.3274, Train Accuracy: 87.2340. Val Loss: 0.3093,            Val Accuracy: 87.5000\n",
      "Epoch [63/100], Train Loss: 0.3422, Train Accuracy: 86.7021. Val Loss: 0.3086,            Val Accuracy: 87.5000\n",
      "Epoch [64/100], Train Loss: 0.3352, Train Accuracy: 86.1702. Val Loss: 0.3165,            Val Accuracy: 85.0000\n",
      "Epoch [65/100], Train Loss: 0.3433, Train Accuracy: 84.0426. Val Loss: 0.3031,            Val Accuracy: 87.5000\n",
      "Epoch [66/100], Train Loss: 0.3294, Train Accuracy: 88.8298. Val Loss: 0.3030,            Val Accuracy: 87.5000\n",
      "Epoch [67/100], Train Loss: 0.3034, Train Accuracy: 89.8936. Val Loss: 0.3052,            Val Accuracy: 87.5000\n",
      "Epoch [68/100], Train Loss: 0.3079, Train Accuracy: 88.2979. Val Loss: 0.3054,            Val Accuracy: 87.5000\n",
      "Epoch [69/100], Train Loss: 0.3021, Train Accuracy: 88.8298. Val Loss: 0.3078,            Val Accuracy: 87.5000\n",
      "Epoch [70/100], Train Loss: 0.3183, Train Accuracy: 88.2979. Val Loss: 0.3117,            Val Accuracy: 90.0000\n",
      "Epoch [71/100], Train Loss: 0.2982, Train Accuracy: 88.8298. Val Loss: 0.3111,            Val Accuracy: 90.0000\n",
      "Epoch [72/100], Train Loss: 0.3265, Train Accuracy: 88.2979. Val Loss: 0.3008,            Val Accuracy: 90.0000\n",
      "Epoch [73/100], Train Loss: 0.2853, Train Accuracy: 88.8298. Val Loss: 0.3087,            Val Accuracy: 90.0000\n",
      "Epoch [74/100], Train Loss: 0.3205, Train Accuracy: 85.6383. Val Loss: 0.3116,            Val Accuracy: 90.0000\n",
      "Epoch [75/100], Train Loss: 0.2690, Train Accuracy: 90.9574. Val Loss: 0.3065,            Val Accuracy: 90.0000\n",
      "Epoch [76/100], Train Loss: 0.2640, Train Accuracy: 90.4255. Val Loss: 0.3040,            Val Accuracy: 90.0000\n",
      "Epoch [77/100], Train Loss: 0.2986, Train Accuracy: 87.2340. Val Loss: 0.2968,            Val Accuracy: 90.0000\n",
      "Epoch [78/100], Train Loss: 0.2840, Train Accuracy: 87.7660. Val Loss: 0.2951,            Val Accuracy: 90.0000\n",
      "Epoch [79/100], Train Loss: 0.3038, Train Accuracy: 87.2340. Val Loss: 0.3108,            Val Accuracy: 90.0000\n",
      "Epoch [80/100], Train Loss: 0.2753, Train Accuracy: 90.9574. Val Loss: 0.3133,            Val Accuracy: 87.5000\n",
      "Epoch [81/100], Train Loss: 0.2705, Train Accuracy: 89.8936. Val Loss: 0.3116,            Val Accuracy: 87.5000\n",
      "Epoch [82/100], Train Loss: 0.2543, Train Accuracy: 90.4255. Val Loss: 0.2927,            Val Accuracy: 87.5000\n",
      "Epoch [83/100], Train Loss: 0.2572, Train Accuracy: 88.8298. Val Loss: 0.2789,            Val Accuracy: 90.0000\n",
      "Epoch [84/100], Train Loss: 0.2446, Train Accuracy: 90.9574. Val Loss: 0.2819,            Val Accuracy: 90.0000\n",
      "Epoch [85/100], Train Loss: 0.2719, Train Accuracy: 92.0213. Val Loss: 0.2869,            Val Accuracy: 90.0000\n",
      "Epoch [86/100], Train Loss: 0.2389, Train Accuracy: 90.4255. Val Loss: 0.2898,            Val Accuracy: 90.0000\n",
      "Epoch [87/100], Train Loss: 0.2135, Train Accuracy: 93.6170. Val Loss: 0.2936,            Val Accuracy: 90.0000\n",
      "Epoch [88/100], Train Loss: 0.2685, Train Accuracy: 90.4255. Val Loss: 0.2923,            Val Accuracy: 90.0000\n",
      "Epoch [89/100], Train Loss: 0.2506, Train Accuracy: 89.3617. Val Loss: 0.2835,            Val Accuracy: 87.5000\n",
      "Epoch [90/100], Train Loss: 0.2539, Train Accuracy: 90.4255. Val Loss: 0.2755,            Val Accuracy: 90.0000\n",
      "Epoch [91/100], Train Loss: 0.2336, Train Accuracy: 90.9574. Val Loss: 0.2717,            Val Accuracy: 90.0000\n",
      "Epoch [92/100], Train Loss: 0.2239, Train Accuracy: 92.0213. Val Loss: 0.2786,            Val Accuracy: 87.5000\n",
      "Epoch [93/100], Train Loss: 0.2162, Train Accuracy: 93.0851. Val Loss: 0.2831,            Val Accuracy: 87.5000\n",
      "Epoch [94/100], Train Loss: 0.2248, Train Accuracy: 92.0213. Val Loss: 0.2885,            Val Accuracy: 87.5000\n",
      "Epoch [95/100], Train Loss: 0.2103, Train Accuracy: 90.9574. Val Loss: 0.2857,            Val Accuracy: 90.0000\n",
      "Epoch [96/100], Train Loss: 0.2421, Train Accuracy: 89.3617. Val Loss: 0.2869,            Val Accuracy: 87.5000\n",
      "Epoch [97/100], Train Loss: 0.2122, Train Accuracy: 92.0213. Val Loss: 0.2777,            Val Accuracy: 90.0000\n",
      "Epoch [98/100], Train Loss: 0.2361, Train Accuracy: 93.0851. Val Loss: 0.2684,            Val Accuracy: 90.0000\n",
      "Epoch [99/100], Train Loss: 0.2034, Train Accuracy: 92.0213. Val Loss: 0.2758,            Val Accuracy: 90.0000\n",
      "Epoch [100/100], Train Loss: 0.2087, Train Accuracy: 92.5532. Val Loss: 0.2894,            Val Accuracy: 90.0000\n"
     ]
    }
   ],
   "source": [
    "# training the model\n",
    "criterion = nn.CrossEntropyLoss()\n",
    "optimizer = optim.Adam(model.parameters(), lr)\n",
    "\n",
    "epochs = 100\n",
    "device = torch.device('cuda' if torch.cuda.is_available() else 'cpu')\n",
    "print(device)\n",
    "model.to(device)\n",
    "train_loss = []\n",
    "train_acc = []\n",
    "val_loss = []\n",
    "val_acc = []\n",
    "best_epoch = 0\n",
    "best_loss = float('inf')\n",
    "\n",
    "for epoch in range(epochs):\n",
    "    # training loop\n",
    "    model.train()\n",
    "    correct = 0\n",
    "    epoch_loss = []\n",
    "    for sequence, label in train_loader:\n",
    "        sequence, label = sequence.to(device), label.to(device)\n",
    "\n",
    "        output = model(sequence)\n",
    "        loss = criterion(output, label)\n",
    "\n",
    "        optimizer.zero_grad()\n",
    "        loss.backward()\n",
    "        optimizer.step()\n",
    "\n",
    "        epoch_loss.append(loss.item())\n",
    "        _, pred = torch.max(output.data, 1)\n",
    "        correct += (pred == label).sum().item()\n",
    "        \n",
    "    epoch_loss_t = np.mean(epoch_loss)\n",
    "    train_loss.append(epoch_loss_t)\n",
    "    epoch_train_a = 100 * correct / train_size\n",
    "    train_acc.append(epoch_train_a)\n",
    "\n",
    "    # Validation Loop\n",
    "    model.eval()\n",
    "    correct = 0\n",
    "    epoch_loss = []\n",
    "    for sequence, label in val_loader:\n",
    "        sequence, label = sequence.to(device), label.to(device)\n",
    "\n",
    "        output = model(sequence)\n",
    "        loss = criterion(output, label)\n",
    "\n",
    "        _, pred = torch.max(output.data, 1)\n",
    "        correct += (pred == label).sum().item()\n",
    "\n",
    "        epoch_loss.append(loss.item())\n",
    "        \n",
    "    epoch_val_l = np.mean(epoch_loss)\n",
    "    val_loss.append(epoch_val_l)\n",
    "    epoch_val_a = 100 * correct / val_size\n",
    "    val_acc.append(epoch_val_a)\n",
    "\n",
    "    if epoch_val_l < best_loss:\n",
    "        torch.save(model.state_dict(), 'LSTM_model.pth')\n",
    "        best_loss = epoch_val_l\n",
    "        best_epoch = epoch + 1\n",
    "\n",
    "    print(f'Epoch [{epoch+1}/{epochs}], Train Loss: {epoch_loss_t:.4f}, Train Accuracy: {epoch_train_a:.4f}. Val Loss: {epoch_val_l:.4f},\\\n",
    "            Val Accuracy: {epoch_val_a:.4f}')"
   ]
  },
  {
   "cell_type": "code",
   "execution_count": 154,
   "metadata": {},
   "outputs": [
    {
     "data": {
      "image/png": "[encoded data removed]",
      "text/plain": [
       "<Figure size 640x480 with 1 Axes>"
      ]
     },
     "metadata": {},
     "output_type": "display_data"
    }
   ],
   "source": [
    "# plot loss over epoch\n",
    "plt.plot(train_loss, label='Training')\n",
    "plt.plot(val_loss, label='Validation')\n",
    "plt.title('LSTM Training and Validation Loss')\n",
    "plt.xlabel('Epochs')\n",
    "plt.ylabel('Loss')\n",
    "plt.legend()\n",
    "plt.show()"
   ]
  },
  {
   "cell_type": "code",
   "execution_count": 155,
   "metadata": {},
   "outputs": [
    {
     "data": {
      "image/png": "[encoded data removed]",
      "text/plain": [
       "<Figure size 640x480 with 1 Axes>"
      ]
     },
     "metadata": {},
     "output_type": "display_data"
    }
   ],
   "source": [
    "# plot accuracy over epoch\n",
    "plt.plot(train_acc, label='Training')\n",
    "plt.plot(val_acc, label='Validation')\n",
    "plt.title('Training and Validation Accuracy')\n",
    "plt.xlabel('Epochs')\n",
    "plt.ylabel('Accuracy')\n",
    "plt.legend()\n",
    "plt.show()"
   ]
  },
  {
   "cell_type": "code",
   "execution_count": 156,
   "metadata": {},
   "outputs": [],
   "source": [
    "def evaluate_model(model, data_loader):\n",
    "    model.eval()\n",
    "    y_true = []\n",
    "    y_pred = []\n",
    "    with torch.no_grad():\n",
    "        for sequence, label in data_loader:\n",
    "            sequence, label = sequence.to(device), label.to(device)\n",
    "            outputs = model(sequence)\n",
    "            _, predicted = torch.max(outputs, 1)\n",
    "            y_true.extend(label.cpu().numpy())\n",
    "            y_pred.extend(predicted.cpu().numpy())\n",
    "    return y_true, y_pred"
   ]
  },
  {
   "cell_type": "code",
   "execution_count": 157,
   "metadata": {},
   "outputs": [
    {
     "name": "stdout",
     "output_type": "stream",
     "text": [
      "LSTM Classification Report:\n",
      "               precision    recall  f1-score   support\n",
      "\n",
      "           0       0.96      0.93      0.95        28\n",
      "           1       0.86      0.92      0.89        13\n",
      "\n",
      "    accuracy                           0.93        41\n",
      "   macro avg       0.91      0.93      0.92        41\n",
      "weighted avg       0.93      0.93      0.93        41\n",
      "\n",
      "LSTM Accuracy: \n",
      " 0.926829268292683\n"
     ]
    }
   ],
   "source": [
    "from sklearn.metrics import classification_report, accuracy_score, confusion_matrix, ConfusionMatrixDisplay\n",
    "\n",
    "model.load_state_dict(torch.load('LSTM_model.pth'))\n",
    "y_true_LSTM, y_pred_LSTM = evaluate_model(model, test_loader)\n",
    "print('LSTM Classification Report:\\n', classification_report(y_true_LSTM, y_pred_LSTM))\n",
    "print('LSTM Accuracy: \\n', accuracy_score(y_true_LSTM, y_pred_LSTM))"
   ]
  },
  {
   "cell_type": "code",
   "execution_count": 158,
   "metadata": {},
   "outputs": [
    {
     "data": {
      "text/plain": [
       "<sklearn.metrics._plot.confusion_matrix.ConfusionMatrixDisplay at 0x7efbc7b6e8f0>"
      ]
     },
     "execution_count": 158,
     "metadata": {},
     "output_type": "execute_result"
    },
    {
     "data": {
      "image/png": "[encoded data removed]",
      "text/plain": [
       "<Figure size 640x480 with 2 Axes>"
      ]
     },
     "metadata": {},
     "output_type": "display_data"
    }
   ],
   "source": [
    "LSTM_cm = confusion_matrix(y_true_LSTM, y_pred_LSTM)\n",
    "ConfusionMatrixDisplay(LSTM_cm).plot()"
   ]
  },
  {
   "cell_type": "markdown",
   "metadata": {},
   "source": [
    "Random Forest Model"
   ]
  },
  {
   "cell_type": "code",
   "execution_count": 159,
   "metadata": {},
   "outputs": [],
   "source": [
    "from random_forest import RandomForestModel"
   ]
  },
  {
   "cell_type": "code",
   "execution_count": 160,
   "metadata": {},
   "outputs": [],
   "source": [
    "rf_model = RandomForestModel(X=features, y=labels)"
   ]
  },
  {
   "cell_type": "code",
   "execution_count": 161,
   "metadata": {},
   "outputs": [
    {
     "name": "stdout",
     "output_type": "stream",
     "text": [
      "Training accuracy:  1.0\n",
      "Validation accuracy:  0.9024390243902439\n",
      "Test accuracy:  1.0\n"
     ]
    }
   ],
   "source": [
    "rf_model.get_accuracies()"
   ]
  },
  {
   "cell_type": "code",
   "execution_count": 162,
   "metadata": {},
   "outputs": [
    {
     "name": "stdout",
     "output_type": "stream",
     "text": [
      "Random Forest Model Report:\n",
      "               precision    recall  f1-score   support\n",
      "\n",
      "           0       1.00      1.00      1.00        20\n",
      "           1       1.00      1.00      1.00        22\n",
      "\n",
      "    accuracy                           1.00        42\n",
      "   macro avg       1.00      1.00      1.00        42\n",
      "weighted avg       1.00      1.00      1.00        42\n",
      "\n"
     ]
    }
   ],
   "source": [
    "rf_model.model_report()"
   ]
  },
  {
   "cell_type": "code",
   "execution_count": 163,
   "metadata": {},
   "outputs": [
    {
     "data": {
      "image/png": "[encoded data removed]",
      "text/plain": [
       "<Figure size 640x480 with 2 Axes>"
      ]
     },
     "metadata": {},
     "output_type": "display_data"
    }
   ],
   "source": [
    "rf_model.plot_cm()"
   ]
  },
  {
   "cell_type": "markdown",
   "metadata": {},
   "source": [
    "SVM Model"
   ]
  },
  {
   "cell_type": "code",
   "execution_count": 164,
   "metadata": {},
   "outputs": [],
   "source": [
    "from svm import SVMModel"
   ]
  },
  {
   "cell_type": "code",
   "execution_count": 165,
   "metadata": {},
   "outputs": [],
   "source": [
    "svm_model = SVMModel(X=features, y=labels)"
   ]
  },
  {
   "cell_type": "code",
   "execution_count": 166,
   "metadata": {},
   "outputs": [
    {
     "name": "stdout",
     "output_type": "stream",
     "text": [
      "Training accuracy:  0.8743455497382199\n",
      "Validation accuracy:  0.8048780487804879\n",
      "Test accuracy:  0.8809523809523809\n"
     ]
    }
   ],
   "source": [
    "svm_model.get_accuracies()"
   ]
  },
  {
   "cell_type": "code",
   "execution_count": 167,
   "metadata": {},
   "outputs": [
    {
     "name": "stdout",
     "output_type": "stream",
     "text": [
      "Random Forest Model Report:\n",
      "               precision    recall  f1-score   support\n",
      "\n",
      "           0       0.80      1.00      0.89        20\n",
      "           1       1.00      0.77      0.87        22\n",
      "\n",
      "    accuracy                           0.88        42\n",
      "   macro avg       0.90      0.89      0.88        42\n",
      "weighted avg       0.90      0.88      0.88        42\n",
      "\n"
     ]
    }
   ],
   "source": [
    "svm_model.model_report()"
   ]
  },
  {
   "cell_type": "code",
   "execution_count": 168,
   "metadata": {},
   "outputs": [
    {
     "data": {
      "image/png": "[encoded data removed]",
      "text/plain": [
       "<Figure size 640x480 with 2 Axes>"
      ]
     },
     "metadata": {},
     "output_type": "display_data"
    }
   ],
   "source": [
    "svm_model.plot_cm()"
   ]
  }
 ],
 "metadata": {
  "kernelspec": {
   "display_name": "env",
   "language": "python",
   "name": "python3"
  },
  "language_info": {
   "codemirror_mode": {
    "name": "ipython",
    "version": 3
   },
   "file_extension": ".py",
   "mimetype": "text/x-python",
   "name": "python",
   "nbconvert_exporter": "python",
   "pygments_lexer": "ipython3",
   "version": "3.10.12"
  }
 },
 "nbformat": 4,
 "nbformat_minor": 2
}
